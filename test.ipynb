{
 "cells": [
  {
   "cell_type": "code",
   "execution_count": null,
   "metadata": {},
   "outputs": [],
   "source": [
    "test='Wordle 212 3/6'\n",
    "test=\"\"\"Wordle 211 5/6\n",
    "\n",
    "🟨🟨⬛🟨⬛\n",
    "🟩⬛🟨🟨⬛\n",
    "🟩⬛🟨🟩⬛\n",
    "🟩🟩⬛🟩🟩\n",
    "🟩🟩🟩🟩🟩\"\"\""
   ]
  },
  {
   "cell_type": "code",
   "execution_count": null,
   "metadata": {},
   "outputs": [],
   "source": [
    "#message only\n",
    "message=test.split('\\n')[0]\n",
    "print(message)"
   ]
  },
  {
   "cell_type": "code",
   "execution_count": null,
   "metadata": {},
   "outputs": [],
   "source": [
    "#score only\n",
    "score=message.split('/')[0][-1]\n",
    "print(score)"
   ]
  },
  {
   "cell_type": "code",
   "execution_count": null,
   "metadata": {},
   "outputs": [],
   "source": [
    "import json\n",
    "\n",
    "person = '{\"name\": \"Bob\", \"languages\": [\"English\", \"French\"]}'\n",
    "person_dict = json.loads(person)\n",
    "\n",
    "# Output: {'name': 'Bob', 'languages': ['English', 'French']}\n",
    "print( person_dict)\n",
    "\n",
    "# Output: ['English', 'French']\n",
    "print(person_dict['languages'])"
   ]
  },
  {
   "cell_type": "code",
   "execution_count": null,
   "metadata": {},
   "outputs": [],
   "source": [
    "test_dict={}\n",
    "if 'Cryptik' not in test_dict:\n",
    "    test_dict['Cryptik']={\"streak\": 0, \"scores\":{'X':10,1:20,2:30,3:40,4:50,5:60,6:70}}\n",
    "# print(test_dict)\n",
    "# print(test_dict['Cryptik']['streak'])\n",
    "# print(test_dict['Cryptik']['scores'])\n",
    "# print(test_dict['Cryptik']['scores'][0])\n",
    "div=0\n",
    "total=0\n",
    "for score in test_dict['Cryptik']['scores']:\n",
    "\n",
    "    if score=='X':\n",
    "        total+=test_dict['Cryptik']['scores'][score]*10\n",
    "    else:\n",
    "        total+=test_dict['Cryptik']['scores'][score]*int(score)\n",
    "    div+=test_dict['Cryptik']['scores'][score]\n",
    "    print(total)\n",
    "    print(div)\n",
    "print(total/div)\n"
   ]
  },
  {
   "cell_type": "code",
   "execution_count": 39,
   "metadata": {},
   "outputs": [],
   "source": [
    "scoreboard_file = open('scoreboard.json', 'r')\n",
    "scoreboard = json.load(scoreboard_file)\n",
    "scoreboard_file.close()"
   ]
  },
  {
   "cell_type": "code",
   "execution_count": 56,
   "metadata": {},
   "outputs": [
    {
     "name": "stdout",
     "output_type": "stream",
     "text": [
      "{'0xCryptik': {'streak': 0, 'mean': 2.6666666666666665, 'scores': {'X': 0, '1': 0, '2': 1, '3': 2, '4': 0, '5': 0, '6': 0}}, 'user2': {'streak': 0, 'mean': 4, 'scores': {'X': 0, '1': 0, '2': 1, '3': 2, '4': 0, '5': 0, '6': 0}}}\n",
      "['user2', '0xCryptik']\n",
      "1: user2 - 4\n",
      "2: 0xCryptik - 2.6666666666666665\n"
     ]
    }
   ],
   "source": [
    "print(scoreboard)\n",
    "sorted_scoreboard=sorted(scoreboard, key=lambda x: scoreboard[x]['mean'], reverse=True)\n",
    "print(sorted_scoreboard)\n",
    "n=1\n",
    "for key in sorted_scoreboard:\n",
    "    print(str(n)+\": \"+key+\" - \"+str(scoreboard[key]['mean']))\n",
    "    n+=1"
   ]
  }
 ],
 "metadata": {
  "interpreter": {
   "hash": "78269ee099b8855edff1a8d2d5bd0b18fd40d08bf6c3950880f2692b4e982ec0"
  },
  "kernelspec": {
   "display_name": "Python 3.8.10 64-bit ('.venv': venv)",
   "language": "python",
   "name": "python3"
  },
  "language_info": {
   "codemirror_mode": {
    "name": "ipython",
    "version": 3
   },
   "file_extension": ".py",
   "mimetype": "text/x-python",
   "name": "python",
   "nbconvert_exporter": "python",
   "pygments_lexer": "ipython3",
   "version": "3.8.10"
  },
  "orig_nbformat": 4
 },
 "nbformat": 4,
 "nbformat_minor": 2
}
